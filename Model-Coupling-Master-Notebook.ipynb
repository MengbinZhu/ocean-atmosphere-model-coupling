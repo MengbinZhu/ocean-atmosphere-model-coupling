{
 "cells": [
  {
   "cell_type": "markdown",
   "metadata": {
    "deletable": true,
    "editable": true
   },
   "source": [
    "# Model Coupling Master Logfile\n",
    "\n",
    "## 2017-06-12\n",
    "\n",
    "* Taking back up where we left off in September 2016\n",
    "\n",
    "  - Created a new folder\n",
    "\n",
    "        ~/SoC_Research/OceanAtmoshpereModelCoupling\n",
    "\n",
    "      This folder combines the model coupling related material in\n",
    "\n",
    "        ~/Git/gmcf (copied and cleaned up)\n",
    "\n",
    "      and\n",
    "        ~/201608_IOD_Saji (moved)\n",
    "\n",
    "* In `gmcf`, TODO:\n",
    "  - Make sure Gordon's changes are integrated but `#ifdef`-ed\n",
    "  - Looks like I had been working to replace gmcfAPImodel1 by gmcfAPIocean and gmcfAPImodel2 by gmcfAPIatmosphere. But it is quite incomplete: the ocean model should send a temperature profile to the atmosphere as well. And of course we need to do all the proper interpolation\n",
    "  \n",
    "* Action plan\n",
    "\t1. Test the skeleton for coupling, ensure it does the right thing and debug (most likely)\n",
    "\t2. Replace the gmcfAPImodel* by the more realistic ocean and atmosphere APIs, test again\n",
    "\t3. Create the time and space interpolation and test\n",
    "\t4. Integrate into the gmcfAPI{ocean,atmoshpere} code\n",
    "\t5. Refactor and build the original ocean and atmosphere models.\n",
    "\t6. Replace the stub generators for temperature and wind profiles with the actual models\n",
    "\t7. Create realistic test runs\n",
    "\t"
   ]
  },
  {
   "cell_type": "markdown",
   "metadata": {
    "deletable": true,
    "editable": true
   },
   "source": [
    "* Step 1:\n",
    "\t- Problem 1: Didn't build anymore.\n",
    "\t- Fix 1: add `quadmath` to `LIBS` in `SConstruct.OCEAN_ATMOSPHERE`\n",
    "\t\n",
    "The code seems to work but it is currently a producer-consumer where model 2 does 10 time steps while model 1 does 200.\n",
    "- Model 1 requests data from model 2 (var_name_1,var_name_1_prev,var_name_2,var_name_2_prev) before it acts on the data\n",
    "\tand does nothing afterwards\n",
    "- Model 2 sends var_name_1 then modifies var_name_1 and var_name_2 then sends var_name_2 to model 1\n",
    "\n",
    "For the ocean-atmosphere model we need to send data back from model 1 to model 2 after model 1 has computed. \n",
    "This means that I need a step, e.g.\n",
    "\n",
    "\tcall gmcfPostModel1(v1sum,v2sum)\n",
    "\t\n",
    "Furthermore, model 2 will need to receive these data, but obviously the first time there is nothing to receive."
   ]
  },
  {
   "cell_type": "markdown",
   "metadata": {
    "deletable": true,
    "editable": true
   },
   "source": [
    "## 2017-06-14\n",
    "\n",
    "### Model configurations and interactions\n",
    "\n",
    "#### Atmosphere model: \n",
    "\n",
    "        Delta t = 20 min\n",
    "        \n",
    "I call this the `GMCF_TIME_QUANTUM_MIN`\n",
    "\n",
    "#### Ocean model: \n",
    "\n",
    "        Delta t = 480 min = 20*24 \n",
    "\n",
    "#### Coupling \n",
    "\n",
    "Coupling period is 10 days (and at t=0 no coupling) = `10*24*60` min or `10*24*3` quanta\n",
    "i.e. the atmosphere model takes 24 steps for 1 step of the ocean model\n",
    "Totally ad-hoc, I set the offset to 1 quantum for uvw to ocean and 7 quanta for t to atmosphere\n",
    "\n",
    "* Ocean is more fine-grained than Atmosphere\n",
    "=> In ocean I must interpolate the Atmosphere values\n",
    "=> In atmosphere I must sample the ocean values\t\n",
    "\t\t        \n",
    "#### Scenario\n",
    "\n",
    "I will implement the following scenario:\n",
    "\n",
    "- The atmosphere is much larger than the ocean (twice in every direction) but the resolution is say 5x less\n",
    "- I will exchange the values between the models at different times. If we couple every 10 days, I assume we start with the atmosphere driving the ocean, and 8 days later the ocean drives the atmosphere.\n",
    "\n",
    "This means that I need the ability to distinguish between such periodic events. \n",
    "In general, we can have k period events. They each have an offset from the start of the simulation and a period which is a multiple of the  time step of the slowest model.\n",
    "For each of these k events we need to sync, and then take action for the appropriate event. \n",
    "\n",
    "For example, suppose the model time step is 20;  we have 3 exchange cycles: 40, 80 and 200 with an offset of resp. 20, 60 and 160\n",
    "Reducing this it means\n",
    "\n",
    "    (2,10);(4,6);(10,8)\n",
    "\n",
    "the corresponding test is \n",
    "\n",
    "    (t-t_offset) >0 and (t-t_offset) % exchange_period ==0   \n",
    "    \n",
    "#### Generalisation to multiple models\n",
    "\n",
    "The above is OK for 2 models. For multiple models, what we need is to check for each model if there is a sync point with a given other model. In other words, the tuple should also include the participants:\n",
    "\n",
    "    (SYNC_PERIOD,SYNC_OFFSET, participating_models)\n",
    "    \n",
    "The data structure ofr `participating_models` is definitely related to the `gmcfConnectivityMatrix`, and assuming the number of models is never huge, we could do a linear search. \n",
    "\n",
    "For every model, all we need to know is when the sync points are, not actually what to do. So we can create a redundant list of gmcfSyncConfigurations, i.e. we make it a list of lists of tuples.\n",
    "\n",
    "For every model, we go through one of the sublists by model index. From that we get the `current_sync_config`\n",
    "    "
   ]
  },
  {
   "cell_type": "code",
   "execution_count": 7,
   "metadata": {
    "collapsed": false,
    "deletable": true,
    "editable": true
   },
   "outputs": [
    {
     "name": "stdout",
     "output_type": "stream",
     "text": [
      "t : 0\n",
      "t : 20\n",
      "t : 40\n",
      "t : 60\n",
      "t : 80\n",
      "t : 100\n",
      "t : 120\n",
      "\tSync for config  2 (80, 120)\n",
      "Action  2\n",
      "t : 140\n",
      "t : 160\n",
      "\tSync for config  3 (200, 160)\n",
      "Action  3\n",
      "t : 180\n",
      "t : 200\n",
      "\tSync for config  1 (40, 200)\n",
      "Action  1\n",
      "t : 220\n",
      "t : 240\n",
      "\tSync for config  1 (40, 200)\n",
      "Action  1\n",
      "t : 260\n",
      "t : 280\n",
      "\tSync for config  1 (40, 200)\n",
      "Action  1\n",
      "t : 300\n",
      "t : 320\n",
      "\tSync for config  1 (40, 200)\n",
      "Action  1\n",
      "t : 340\n",
      "t : 360\n",
      "\tSync for config  1 (40, 200)\n",
      "Action  1\n",
      "t : 380\n",
      "t : 400\n",
      "\tSync for config  1 (40, 200)\n",
      "Action  1\n",
      "t : 420\n",
      "t : 440\n",
      "\tSync for config  1 (40, 200)\n",
      "Action  1\n",
      "t : 460\n",
      "t : 480\n",
      "\tSync for config  1 (40, 200)\n",
      "Action  1\n",
      "t : 500\n",
      "t : 520\n",
      "\tSync for config  1 (40, 200)\n",
      "Action  1\n",
      "t : 540\n",
      "t : 560\n",
      "\tSync for config  1 (40, 200)\n",
      "Action  1\n",
      "t : 580\n",
      "t : 600\n",
      "\tSync for config  1 (40, 200)\n",
      "Action  1\n",
      "t : 620\n",
      "t : 640\n",
      "\tSync for config  1 (40, 200)\n",
      "Action  1\n",
      "t : 660\n",
      "t : 680\n",
      "\tSync for config  1 (40, 200)\n",
      "Action  1\n",
      "t : 700\n",
      "t : 720\n",
      "\tSync for config  1 (40, 200)\n",
      "Action  1\n",
      "t : 740\n",
      "t : 760\n",
      "\tSync for config  1 (40, 200)\n",
      "Action  1\n",
      "t : 780\n",
      "t : 800\n",
      "\tSync for config  1 (40, 200)\n",
      "Action  1\n",
      "t : 820\n",
      "t : 840\n",
      "\tSync for config  1 (40, 200)\n",
      "Action  1\n",
      "t : 860\n",
      "t : 880\n",
      "\tSync for config  1 (40, 200)\n",
      "Action  1\n",
      "t : 900\n",
      "t : 920\n",
      "\tSync for config  1 (40, 200)\n",
      "Action  1\n",
      "t : 940\n",
      "t : 960\n",
      "\tSync for config  1 (40, 200)\n",
      "Action  1\n",
      "t : 980\n"
     ]
    }
   ],
   "source": [
    "dt = 20\n",
    "gmcfSyncConfigurations = [(2,10),(4,6),(10,8)]\n",
    "\n",
    "def gmcfCheckSync(sim_time,gmcfSyncConfigurations):\n",
    "    current_sync_config=0;\n",
    "    for (exchange_period,t_offset) in gmcfSyncConfigurations:\n",
    "        current_sync_config+=1\n",
    "        if sim_time >= t_offset and (sim_time-t_offset) % exchange_period == 0:\n",
    "            print(\"\\tSync for config \",current_sync_config,(exchange_period*dt,t_offset*dt))\n",
    "            return current_sync_config       \n",
    "        \n",
    "for t in range(50):\n",
    "    print(\"t :\",t*dt)\n",
    "    sync_case = gmcfCheckSync(t,gmcfSyncConfigurations)\n",
    "    \n",
    "    if sync_case == 1:\n",
    "        print(\"Action \",sync_case)\n",
    "    elif sync_case == 2:\n",
    "        print(\"Action \",sync_case)\n",
    "    elif sync_case == 3:\n",
    "        print(\"Action \",sync_case)\n",
    "        "
   ]
  },
  {
   "cell_type": "markdown",
   "metadata": {
    "deletable": true,
    "editable": true
   },
   "source": [
    "Now, what we also need is the information about what to do at a given sync step. I think I'll do this via a case statement."
   ]
  },
  {
   "cell_type": "markdown",
   "metadata": {
    "deletable": true,
    "editable": true
   },
   "source": [
    "\n",
    "\n",
    "### Request or Push?\n",
    "\n",
    "The main question to decide is if there is an advantage to the `request` approach.\n",
    "\n",
    "I think the request approach is necessary when a model does not always need the same information. But because the whole current setup is compile-time decided, I think we can actually skip the requests and simply send the required data after syncing:\n",
    "\n",
    "    call gmcfSync(sync_cases, sync_case)\n",
    "    select (sync_case)\n",
    "        case UVW_TO_OCEAN:\n",
    "            call gmcfSend(...)\n",
    "        case T_FROM_ATMOSPHERE:\n",
    "            call gmcfWait(...)        \n",
    "            call gmcfReceive(...)        \n",
    "        "
   ]
  },
  {
   "cell_type": "markdown",
   "metadata": {
    "deletable": true,
    "editable": true
   },
   "source": [
    "### Atmosphere model actions\n",
    "\n",
    "1. The `atmosphere` model will send `wind_profile` to the `ocean` model using the `ATMOSPHERE_SYNC_PERIOD` and `ATMOSPHERE_SYNC_OFFSET`\n",
    "2. The `atmosphere` model will receive `temp` from the `ocean` model using the `OCEAN_SYNC_PERIOD` and `OCEAN_SYNC_OFFSET`\n",
    "\n",
    "The actions are then: \n",
    "- check for sync point\n",
    "- sync\n",
    "- send `wind_profile`\n",
    "- wait for `temp`\n",
    "- read `temp`\n",
    "\n",
    "\n",
    "Currently we have following code:\n",
    "\n",
    "        t_sync = t_atmosphere / t_sync_step ! means atmosphere steps are smaller and more frequent than ocean\n",
    "        t_inter = mod(t_atmosphere,t_sync_step) ! for interpolation between two steps of atmosphere\n",
    "        t_atmosphere = t_atmosphere + 1\n",
    "\n",
    "This code assumes that there are two  models that exchange info with a fixed period. The new model defines a sync point purely in terms of the quantised time step of the model. \n",
    "\n",
    "I will assume that the time step of the original code for every model is simply 1, the start time 0. \n",
    "So inside the `gmcfSync` subroutine we multiply this with the appropriate time step and add any required offset.\n",
    "\n",
    "Suppose the original code would not be so well-behaved then we need to do it a bit more complicated:\n",
    "\n",
    "    delta_t = DELTA_T_SEC ! just to complicate matters\n",
    "    do t = t_start, t_stop, t_step \n",
    "    ! the model will use this relative time `t` for its computations\n",
    "    ! The absolute time is \n",
    "    t_in_min = t*delta_t/60\n",
    "    t_norm = (t_in_min / GMCF_TIME_QUANTUM) \n",
    "\n",
    "For example if `t_start=3` and `t_step=4` then `t = 3,7,11,15,...`\n",
    "What we want is the number of quanta elapsed since the start of the simulation.\n",
    "So first we substract the offset `t_start`: `t-t_start = 0,4,8,12,...`\n",
    "Then we divide by `t_step`: `t_start`: `(t-t_start)/t_step = 0,1,2,3,...`\n",
    "Let's call this the `n_ticks`:\n",
    "\n",
    "    n_ticks = (t-t_start)/t_step\n",
    "\n",
    "\n",
    "Now we need to relate this to the quanta, and we know that the `GMCF_TIME_QUANTUM` is the GCD. The interval in minutes between two ticks is `t_step*delta_t/60` so to get the number of quanta, we have\n",
    "\n",
    "    quanta_per_tick = ( t_step*delta_t/60 ) / GMCF_TIME_QUANTUM\n",
    "    \n",
    "This is `GMCF_TIME_STEP_ATMOSPHERE`, so the input for `gmcfSync` is the `n_ticks`.\n",
    "\n",
    "Sanity check: for the ocean model, `Delta_t` = 20 minutes or 20*60 seconds; `t_step=1; t_start=0`\n",
    "\n",
    "So we have:\n",
    "\n",
    "    n_ticks = t\n",
    "    GMCF_TIME_STEP_OCEAN = quanta_per_tick = ( 1*20*60/60 ) / 20 = 1\n",
    "\n",
    "\n",
    "So `n_ticks` is the value that goes into the `gmcfSync` call. In the call we need the number of quanta elapsed since the start of the simulation, this should be `n_ticks * GMCF_TIME_STEP_ATMOSPHERE + GMCF_TIME_OFFSET_ATMOSPHERE`:\n",
    "\n",
    "    sim_time = n_ticks * GMCF_TIME_STEP_ATMOSPHERE + GMCF_TIME_OFFSET_ATMOSPHERE\n",
    "    \n",
    "We then compare `sim_time` to the possible sync configurations for the model.\n",
    "\n",
    "The call to `gmcfSync` is blocking. I think we should do nothing else in the `gmcfSyncAtmosphere` call.\n",
    "Instead, the `gmcfSyncAtmosphere` should return the `current_sync_config` and the `gmcfPreAtmosphere` call should use this to decide if it has to send or receive.\n",
    "\n",
    "We can make `current_sync_config` and `is_sync_point` module globals, so that we don't have to pass them explicitly between the calls.\n"
   ]
  },
  {
   "cell_type": "markdown",
   "metadata": {
    "deletable": true,
    "editable": true
   },
   "source": [
    "### Need for Pre/Post?\n",
    "\n",
    "The order of events is:\n",
    "- sync if required\n",
    "- if sync, exchange data (PRE)\n",
    "- compute\n",
    "- if sync, exchange data (POST)\n",
    "\n",
    "Arguably, we should receive in PRE and send in POST, because that means we compute using newly received values and send newly computed values. \n",
    "\n",
    "However, if I do that with two models, then in the PRE stage both models wait for data, so there will be deadlock! To avoid that I should let each model send the data right away, in PRE.\n",
    "Clearly, both models will then also receive in PRE. After computation they could in principle send the data too, and then that data would be pending in the queue until a sync, and then there would be no need for a send in PRE. But that is unsafe ans serves no particular purpose. So I guess POST has no use.\n",
    "\n"
   ]
  },
  {
   "cell_type": "markdown",
   "metadata": {
    "deletable": true,
    "editable": true
   },
   "source": [
    "### Note about organisation of the configurations\n",
    "\n",
    "At the moment I use parameters such as `GMCF_TIME_STEP_<model>`. This is unpractical. A better way is to create a record type for all the configuration data, and then create an array of records for all models. That will make the overall code much more generic. But what to put in a configuration is not so easy to determine.\n",
    "\n"
   ]
  },
  {
   "cell_type": "markdown",
   "metadata": {
    "deletable": true,
    "editable": true
   },
   "source": [
    "### Domain interpolation\n",
    "\n",
    "I want the atmosphere domain to be twice as large as the ocean domain but with `1/5` of the resolution\n",
    "So if the ocean is `100 x 100`, the atmosphere will be `200/5 x 200/5`\n",
    "\n",
    "\n",
    "\n",
    "Now suppose I want the ocean to cover from `30/5` to `130/5` and from `40/5` to `140/5`\n",
    "\n",
    "    integer, parameter :: ATMOSPHERE_IP=48,ATMOSPHERE_JP=48,ATMOSPHERE_KP=27\n",
    "            \n",
    "The ratio is encoded in \n",
    "\n",
    "    integer, parameter :: ATMOSPHERE_DI=5,ATMOSPHERE_DJ=5,ATMOSPHERE_DK=1\n",
    "            \n",
    "I'm not happy with these names. The correct approach would be to define OCEAN_OFFSET_FROM_ATMOSPHERE_X, OCEAN_OFFSET_FROM_ATMOSPHERE_Y \n",
    "\n",
    "    integer, parameter :: ATMOSPHERE_IMS=6,ATMOSPHERE_JMS=8,ATMOSPHERE_KMS=1\n",
    "    integer, parameter :: ATMOSPHERE_IME=26,ATMOSPHERE_JME=28,ATMOSPHERE_KME=27\n"
   ]
  },
  {
   "cell_type": "markdown",
   "metadata": {
    "deletable": true,
    "editable": true
   },
   "source": [
    "### Time interpolation\n",
    "\n",
    "- Time interpolation actually only works in proper producer-consumer cases\n",
    "- In a case with mutual exchange of data, interpolation is impossible without introducing an artificial phase shift, so the action of one model will lag on the action of another. With more than two models this would I think quickly result in incorrect simulations.\n",
    "- The alternative, extrapolation, leads to potential overshoot on maxima and undershoot on minima, as well as introduction of higher-order frequencies in the signal.\n",
    "- So piecewise constant is the best possible alternative? Maybe not. What we can do is interpolate between the old and the new value, leaving the new value as the last one in the interval.\n",
    "This requires us to know how many ticks there are between updates. \n",
    "\n",
    "\n",
    "\n"
   ]
  },
  {
   "cell_type": "markdown",
   "metadata": {
    "deletable": true,
    "editable": true
   },
   "source": [
    "### Ocean model actions\n",
    "\n",
    "1. The `ocean` model will send `temp` to the `atmosphere` model using the `OCEAN_SYNC_PERIOD` and `OCEAN_SYNC_OFFSET`\n",
    "2. The `ocean` model will receive `wind_profile` from the `atmosphere` model using the `ATMOSPHERE_SYNC_PERIOD` and `ATMOSPHERE_SYNC_OFFSET`\n",
    "\n",
    "The actions are then: \n",
    "- check for sync point\n",
    "- sync\n",
    "- send `temp`\n",
    "- wait for `wind_profile`\n",
    "- read `wind_profile`"
   ]
  },
  {
   "cell_type": "markdown",
   "metadata": {
    "collapsed": true,
    "deletable": true,
    "editable": true
   },
   "source": [
    "## 2017-06-15\n",
    "\n",
    "Space interpolation: fortunately we can take this straight from Numerical Recipes and I already wrote most of the code. \n",
    "Main change this involves is that I need to provide auxiliary arrays with the latitudinal and longitudinal coordinates, or for the simple case at least the offset and grid size. \n"
   ]
  },
  {
   "cell_type": "markdown",
   "metadata": {
    "collapsed": true,
    "deletable": true,
    "editable": true
   },
   "source": [
    "## 2017-06-16\n",
    "\n",
    "I thought about a test scenario and realised that basically there are two possibilities: \n",
    "\n",
    "- Concurrent: the two models sync, exchange data, work, repeat;\n",
    "- Dependent: the two models sync, model1 sends to model2, model2 works, model2 sends to model1, model1 works, repeat\n",
    "\n",
    "The concurrent case is I think most representative for e.g. ocean-atmosphere interactions as clearly they both \"run\" in parallel.\n"
   ]
  },
  {
   "cell_type": "code",
   "execution_count": 2,
   "metadata": {
    "collapsed": false,
    "deletable": true,
    "editable": true
   },
   "outputs": [
    {
     "name": "stdout",
     "output_type": "stream",
     "text": [
      "3.0 -2\n",
      "2.0 -8.0\n",
      "-2.0 -12.0\n",
      "-8.0 -8.0\n",
      "-12.0 8.0\n",
      "-8.0 32.0\n",
      "8.0 48.0\n",
      "32.0 32.0\n",
      "48.0 -32.0\n",
      "32.0 -128.0\n"
     ]
    }
   ],
   "source": [
    "# Concurrent case: \n",
    "\n",
    "def f1(v1,v2):\n",
    "    return v1+v2/2.0\n",
    "\n",
    "def f2(v1,v2):\n",
    "    return v1-2*v2\n",
    "    \n",
    "v1=2\n",
    "v2=2\n",
    "for t in range(0,10):\n",
    "    v1r = v1\n",
    "    v2r = v2\n",
    "    v1 = f1(v1r, v2r)\n",
    "    v2 = f2(v2r, v1r)    \n",
    "    print(v1,v2)\n",
    "    \n",
    "    "
   ]
  },
  {
   "cell_type": "code",
   "execution_count": 15,
   "metadata": {
    "collapsed": false,
    "deletable": true,
    "editable": true
   },
   "outputs": [
    {
     "name": "stdout",
     "output_type": "stream",
     "text": [
      "[1, 2]\n",
      "[2, 3]\n",
      "[3, 5]\n",
      "[5, 8]\n",
      "[8, 13]\n",
      "[13, 21]\n",
      "[21, 34]\n",
      "[34, 55]\n",
      "[55, 89]\n",
      "[89, 144]\n"
     ]
    }
   ],
   "source": [
    "# Dependent case : Fibonacci\n",
    "\n",
    "def f1(v):\n",
    "    return v[0]+v[1]\n",
    "\n",
    "def f2(v1,v2):\n",
    "    return [v1[1],v2]\n",
    "    \n",
    "v1=0\n",
    "v2=[1,1]\n",
    "for t in range(0,10):\n",
    "    v2r = v2\n",
    "    v1 = f1(v2r)\n",
    "    v1r = v1    \n",
    "    v2 = f2(v2, v1r)    \n",
    "    print(v2)"
   ]
  },
  {
   "cell_type": "markdown",
   "metadata": {
    "deletable": true,
    "editable": true
   },
   "source": [
    "The main task to do to finish step 1 of my action plan is to create the `lat` and `lon` coordinate arrays."
   ]
  },
  {
   "cell_type": "markdown",
   "metadata": {
    "collapsed": true,
    "deletable": true,
    "editable": true
   },
   "source": [
    "## 2017-06-19"
   ]
  },
  {
   "cell_type": "markdown",
   "metadata": {
    "deletable": true,
    "editable": true
   },
   "source": [
    "### In terms of the action plan, I think I have now do steps 1, 2 and 3. So now I need to test the system in its current state.\n",
    "\n",
    "* Test functionality without any interpolation: use the test example above. But what I think I'll do is read the v1 and v2 from the temperature and wind profile arrays. Also, I will make the u,v,w and temp arrays the same size in both models.\n",
    "\n",
    "!!! FIXME: the `.tdc64` file *must* currently be named `gmfc.tdc64` because it is hardcoded in `gmcfCoupler.cc`\n",
    "\n",
    "But apart from that, after some fumbling with Fortran print formats\n",
    "\n",
    "        print 7188, model_id, v1,t_surface(1,1),u(1,1,1)\n",
    "        7188 format(\"FORTRAN MODEL \",i1, \" v1 = \",f8.1,' = (',f8.1,' + ',f8.1,' / 2 )')\n",
    "                 \n",
    "This produces the same output as the example above:\n",
    "\n",
    "        [ocean-atmosphere-model-coupling]$ ./gmcfCoupler | grep 'v1'\n",
    "        FORTRAN MODEL 1 v1 =      3.0 = (     2.0 +      2.0 / 2 )\n",
    "        FORTRAN MODEL 1 v1 =      2.0 = (     3.0 +     -2.0 / 2 )\n",
    "        FORTRAN MODEL 1 v1 =     -2.0 = (     2.0 +     -8.0 / 2 )\n",
    "        FORTRAN MODEL 1 v1 =     -8.0 = (    -2.0 +    -12.0 / 2 )\n",
    "        FORTRAN MODEL 1 v1 =    -12.0 = (    -8.0 +     -8.0 / 2 )\n",
    "        FORTRAN MODEL 1 v1 =     -8.0 = (   -12.0 +      8.0 / 2 )\n",
    "        FORTRAN MODEL 1 v1 =      8.0 = (    -8.0 +     32.0 / 2 )\n",
    "        FORTRAN MODEL 1 v1 =     32.0 = (     8.0 +     48.0 / 2 )\n",
    "        FORTRAN MODEL 1 v1 =     48.0 = (    32.0 +     32.0 / 2 )\n",
    "        FORTRAN MODEL 1 v1 =     32.0 = (    48.0 +    -32.0 / 2 )\n",
    "        FORTRAN MODEL 1 v1 =    -32.0 = (    32.0 +   -128.0 / 2 )\n"
   ]
  },
  {
   "cell_type": "markdown",
   "metadata": {
    "deletable": true,
    "editable": true
   },
   "source": [
    "## 2017-06-20"
   ]
  },
  {
   "cell_type": "markdown",
   "metadata": {
    "deletable": true,
    "editable": true
   },
   "source": [
    "* The next step I think is to use different domain sizes but simply pick a subdomain with the size of the smallest domain for transfers. We can test this by using values from the lower-left and upper-right corners and compute the same function for both of them.\n",
    "\n",
    "I want this subdomain to be static, and it would be part of the scenario eventually. So I guess we just need a subroutine that takes the original domain array, the target subdomain array and the corner index 4-tuple,"
   ]
  },
  {
   "cell_type": "markdown",
   "metadata": {
    "deletable": true,
    "editable": true
   },
   "source": [
    "```fortran\n",
    "    subroutine gmcfExtract2DSubdomain(subd_indices, domain, subdomain)\n",
    "        integer, dimension(4), intent(In) :: subd_indices\n",
    "        real(kind=4), dimension(:,:) , intent(In) :: domain\n",
    "        real(kind=4), dimension(:,:) , intent(InOut) :: subdomain\n",
    "        subdomain = domain(subd_indices(1):subd_indices(2),subd_indices(3):subd_indices(4))\n",
    "    end subroutine gmcfExtract2DSubdomain\n",
    "```    "
   ]
  },
  {
   "cell_type": "markdown",
   "metadata": {},
   "source": [
    "As the ocean model sends a subdomain to the atmosphere model, we need another subroutine to insert this subdomain into the domain as well:\n",
    "```fortran    \n",
    "    subroutine gmcfInsert2DSubdomain(subd_indices, domain, subdomain)\n",
    "        integer, dimension(4), intent(In) :: subd_indices\n",
    "        real(kind=4), dimension(:,:) , intent(InOut) :: domain\n",
    "        real(kind=4), dimension(:,:) , intent(In) :: subdomain\n",
    "        domain(subd_indices(1):subd_indices(2),subd_indices(3):subd_indices(4))=subdomain\n",
    "    end subroutine gmcfInsert2DSubdomain\n",
    "```    "
   ]
  },
  {
   "cell_type": "markdown",
   "metadata": {},
   "source": [
    "Next step: different time steps, e.g. the ones from original models.\n",
    "\n",
    "    "
   ]
  },
  {
   "cell_type": "code",
   "execution_count": 48,
   "metadata": {
    "collapsed": false
   },
   "outputs": [
    {
     "name": "stdout",
     "output_type": "stream",
     "text": [
      "    FORTRAN MODEL 1 v1b =        2.0 = (      2.0 +      2.0 / 200 )\n",
      "    FORTRAN MODEL 1 v1b =        2.7 = (      2.7 +    -10.0 / 200 )\n",
      "    FORTRAN MODEL 1 v1b =       -1.0 = (     -0.9 +    -26.3 / 200 )\n",
      "    FORTRAN MODEL 1 v1b =      -10.5 = (    -10.4 +    -21.0 / 200 )\n",
      "    FORTRAN MODEL 1 v1b =      -17.7 = (    -17.9 +     41.1 / 200 )\n",
      "    FORTRAN MODEL 1 v1b =       -2.4 = (     -3.1 +    148.7 / 200 )\n",
      "    FORTRAN MODEL 1 v1b =       51.2 = (     50.4 +    167.5 / 200 )\n",
      "    FORTRAN MODEL 1 v1b =      110.0 = (    110.7 +   -134.8 / 200 )\n",
      "    FORTRAN MODEL 1 v1b =       58.2 = (     62.1 +   -798.9 / 200 )\n",
      "    FORTRAN MODEL 1 v1b =     -231.3 = (   -225.5 +  -1171.8 / 200 )\n",
      "    FORTRAN MODEL 1 v1b =     -646.4 = (   -647.3 +    181.0 / 200 )\n"
     ]
    }
   ],
   "source": [
    "# Concurrent case with differnt time steps and a long sync period\n",
    "\n",
    "quantum = 20 # minutes\n",
    "sync_period = 1*24*3 # quanta\n",
    "\n",
    "ocean_sync_period = sync_period # quanta\n",
    "ocean_timestep = 1 # quantum\n",
    "ocean_offset = 0 \n",
    "atmosphere_timestep = 24 # quanta\n",
    "atmosphere_offset = 0\n",
    "atmosphere_sync_period = sync_period\n",
    "\n",
    "def ocean(v1,v2):\n",
    "    return v1+v2/200.0\n",
    "\n",
    "def atmosphere(v1,v2):\n",
    "    return v1-2*v2\n",
    "    \n",
    "v1=2\n",
    "v1b=2\n",
    "v2=2\n",
    "v2b=2\n",
    "n_ticks_ocean=0\n",
    "n_ticks_atmosphere=0\n",
    "for t in range(0,770):\n",
    "\n",
    "    sim_time_ocean=n_ticks_ocean*ocean_timestep+ocean_offset\n",
    "    sim_time_atmosphere=n_ticks_atmosphere*atmosphere_timestep+atmosphere_offset\n",
    "#     print(t,sim_time_ocean,sim_time_atmosphere,sim_time_ocean% sync_period==0,sim_time_atmosphere % sync_period==0,sync_period)\n",
    "# ocean and atmosphere sync \n",
    "    if (sim_time_ocean% sync_period==0 and sim_time_atmosphere % sync_period==0):\n",
    "#         print(t,v1,v2)\n",
    "#         print('FORTRAN MODEL 1 v1b = %8.1f + %8.1f /200.0' % (v1,v2))\n",
    "        v1r = v1\n",
    "        v2r = v2\n",
    "        \n",
    "# ocean computes for every t \n",
    "    if (t % ocean_timestep == 0):\n",
    "        n_ticks_ocean+=1\n",
    "        v1b = ocean(v1, v2r)\n",
    "        if (t%72==0):\n",
    "            print('\\tFORTRAN MODEL 1 v1b =\\t%8.1f = ( %8.1f + %8.1f / 200 )'.expandtabs(4) % (v1b,v1,v2))\n",
    "        v1=v1b\n",
    "        \n",
    "# atmosphere computes \n",
    "    if t % atmosphere_timestep == 0:\n",
    "        n_ticks_atmosphere+=1         \n",
    "        v2 = atmosphere(v2, v1r)    \n",
    "\n",
    "    "
   ]
  },
  {
   "cell_type": "markdown",
   "metadata": {},
   "source": [
    "The Fortran coupled model yields:\n",
    "\n",
    "    FORTRAN MODEL 1 v1b =      2.0 = (     2.0 +      2.0 / 200 )\n",
    "    FORTRAN MODEL 1 v1b =      2.7 = (     2.7 +    -10.0 / 200 )\n",
    "    FORTRAN MODEL 1 v1b =     -1.0 = (    -0.9 +    -26.3 / 200 )\n",
    "    FORTRAN MODEL 1 v1b =    -10.5 = (   -10.4 +    -21.0 / 200 )\n",
    "    FORTRAN MODEL 1 v1b =    -17.7 = (   -17.9 +     41.1 / 200 )\n",
    "    FORTRAN MODEL 1 v1b =     -2.4 = (    -3.1 +    148.7 / 200 )\n",
    "    FORTRAN MODEL 1 v1b =     51.2 = (    50.4 +    167.5 / 200 )\n",
    "    FORTRAN MODEL 1 v1b =    110.0 = (   110.7 +   -134.8 / 200 )\n",
    "    FORTRAN MODEL 1 v1b =     58.2 = (    62.1 +   -798.9 / 200 )\n",
    "    FORTRAN MODEL 1 v1b =   -231.3 = (  -225.5 +  -1171.8 / 200 )\n",
    "    FORTRAN MODEL 1 v1b =   -646.4 = (  -647.3 +    181.0 / 200 )\n",
    "    \n",
    "So all is well    "
   ]
  }
 ],
 "metadata": {
  "kernelspec": {
   "display_name": "Python 3",
   "language": "python",
   "name": "python3"
  },
  "language_info": {
   "codemirror_mode": {
    "name": "ipython",
    "version": 3
   },
   "file_extension": ".py",
   "mimetype": "text/x-python",
   "name": "python",
   "nbconvert_exporter": "python",
   "pygments_lexer": "ipython3",
   "version": "3.6.1"
  }
 },
 "nbformat": 4,
 "nbformat_minor": 2
}
