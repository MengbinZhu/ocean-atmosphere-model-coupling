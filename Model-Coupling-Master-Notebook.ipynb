{
 "cells": [
  {
   "cell_type": "markdown",
   "metadata": {
    "deletable": true,
    "editable": true
   },
   "source": [
    "# Model Coupling Master Logfile\n",
    "\n",
    "## 2017-06-12\n",
    "\n",
    "* Taking back up where we left off in September 2016\n",
    "\n",
    "  - Created a new folder\n",
    "\n",
    "        ~/SoC_Research/OceanAtmoshpereModelCoupling\n",
    "\n",
    "      This folder combines the model coupling related material in\n",
    "\n",
    "        ~/Git/gmcf (copied and cleaned up)\n",
    "\n",
    "      and\n",
    "        ~/201608_IOD_Saji (moved)\n",
    "\n",
    "* In `gmcf`, TODO:\n",
    "  - Make sure Gordon's changes are integrated but `#ifdef`-ed\n",
    "  - Looks like I had been working to replace gmcfAPImodel1 by gmcfAPIocean and gmcfAPImodel2 by gmcfAPIatmosphere. But it is quite incomplete: the ocean model should send a temperature profile to the atmosphere as well. And of course we need to do all the proper interpolation\n",
    "  \n",
    "* Action plan\n",
    "\t1. Test the skeleton for coupling, ensure it does the right thing and debug (most likely)\n",
    "\t2. Replace the gmcfAPImodel* by the more realistic ocean and atmosphere APIs, test again\n",
    "\t3. Create the time and space interpolation and test\n",
    "\t4. Integrate into the gmcfAPI{ocean,atmoshpere} code\n",
    "\t5. Refactor and build the original ocean and atmosphere models.\n",
    "\t6. Replace the stub generators for temperature and wind profiles with the actual models\n",
    "\t7. Create realistic test runs\n",
    "\t"
   ]
  },
  {
   "cell_type": "markdown",
   "metadata": {
    "deletable": true,
    "editable": true
   },
   "source": [
    "* Step 1:\n",
    "\t- Problem 1: Didn't build anymore.\n",
    "\t- Fix 1: add `quadmath` to `LIBS` in `SConstruct.OCEAN_ATMOSPHERE`\n",
    "\t\n",
    "The code seems to work but it is currently a producer-consumer where model 2 does 10 time steps while model 1 does 200.\n",
    "- Model 1 requests data from model 2 (var_name_1,var_name_1_prev,var_name_2,var_name_2_prev) before it acts on the data\n",
    "\tand does nothing afterwards\n",
    "- Model 2 sends var_name_1 then modifies var_name_1 and var_name_2 then sends var_name_2 to model 1\n",
    "\n",
    "For the ocean-atmosphere model we need to send data back from model 1 to model 2 after model 1 has computed. \n",
    "This means that I need a step, e.g.\n",
    "\n",
    "\tcall gmcfPostModel1(v1sum,v2sum)\n",
    "\t\n",
    "Furthermore, model 2 will need to receive these data, but obviously the first time there is nothing to receive."
   ]
  },
  {
   "cell_type": "markdown",
   "metadata": {
    "deletable": true,
    "editable": true
   },
   "source": [
    "## 2017-06-14\n",
    "\n",
    "### Model configurations and interactions\n",
    "\n",
    "#### Atmosphere model: \n",
    "\n",
    "        Delta t = 20 min\n",
    "        \n",
    "I call this the `GMCF_TIME_QUANTUM_MIN`\n",
    "\n",
    "#### Ocean model: \n",
    "\n",
    "        Delta t = 480 min = 20*24 \n",
    "\n",
    "#### Coupling \n",
    "\n",
    "Coupling period is 10 days (and at t=0 no coupling) = `10*24*60` min or `10*24*3` quanta\n",
    "i.e. the atmosphere model takes 24 steps for 1 step of the ocean model\n",
    "Totally ad-hoc, I set the offset to 1 quantum for uvw to ocean and 7 quanta for t to atmosphere\n",
    "\n",
    "* Ocean is more fine-grained than Atmosphere\n",
    "=> In ocean I must interpolate the Atmosphere values\n",
    "=> In atmosphere I must sample the ocean values\t\n",
    "\t\t        \n",
    "#### Scenario\n",
    "\n",
    "I will implement the following scenario:\n",
    "\n",
    "- The atmosphere is much larger than the ocean (twice in every direction) but the resolution is say 5x less\n",
    "- I will exchange the values between the models at different times. If we couple every 10 days, I assume we start with the atmosphere driving the ocean, and 8 days later the ocean drives the atmosphere.\n",
    "\n",
    "This means that I need the ability to distinguish between such periodic events. \n",
    "In general, we can have k period events. They each have an offset from the start of the simulation and a period which is a multiple of the  time step of the slowest model.\n",
    "For each of these k events we need to sync, and then take action for the appropriate event. \n",
    "\n",
    "For example, suppose the model time step is 20;  we have 3 exchange cycles: 40, 80 and 200 with an offset of resp. 20, 60 and 160\n",
    "Reducing this it means\n",
    "\n",
    "    (2,10);(4,6);(10,8)\n",
    "\n",
    "the corresponding test is \n",
    "\n",
    "    (t-t_offset) >0 and (t-t_offset) % exchange_period ==0   \n",
    "    \n",
    "#### Generalisation to multiple models\n",
    "\n",
    "The above is OK for 2 models. For multiple models, what we need is to check for each model if there is a sync point with a given other model. In other words, the tuple should also include the participants:\n",
    "\n",
    "    (SYNC_PERIOD,SYNC_OFFSET, participating_models)\n",
    "    \n",
    "The data structure ofr `participating_models` is definitely related to the `gmcfConnectivityMatrix`, and assuming the number of models is never huge, we could do a linear search. \n",
    "\n",
    "For every model, all we need to know is when the sync points are, not actually what to do. So we can create a redundant list of gmcfSyncConfigurations, i.e. we make it a list of lists of tuples.\n",
    "\n",
    "For every model, we go through one of the sublists by model index. From that we get the `current_sync_config`\n",
    "    "
   ]
  },
  {
   "cell_type": "code",
   "execution_count": 413,
   "metadata": {
    "collapsed": false,
    "deletable": true,
    "editable": true
   },
   "outputs": [
    {
     "name": "stdout",
     "output_type": "stream",
     "text": [
      "t : 0\n",
      "t : 20\n",
      "t : 40\n",
      "t : 60\n",
      "t : 80\n",
      "t : 100\n",
      "t : 120\n",
      "\tSync for config  2 (80, 120)\n",
      "Action  2\n",
      "t : 140\n",
      "t : 160\n",
      "\tSync for config  3 (200, 160)\n",
      "Action  3\n",
      "t : 180\n",
      "t : 200\n",
      "\tSync for config  1 (40, 200)\n",
      "Action  1\n",
      "t : 220\n",
      "t : 240\n",
      "\tSync for config  1 (40, 200)\n",
      "Action  1\n",
      "t : 260\n",
      "t : 280\n",
      "\tSync for config  1 (40, 200)\n",
      "Action  1\n",
      "t : 300\n",
      "t : 320\n",
      "\tSync for config  1 (40, 200)\n",
      "Action  1\n",
      "t : 340\n",
      "t : 360\n",
      "\tSync for config  1 (40, 200)\n",
      "Action  1\n",
      "t : 380\n",
      "t : 400\n",
      "\tSync for config  1 (40, 200)\n",
      "Action  1\n",
      "t : 420\n",
      "t : 440\n",
      "\tSync for config  1 (40, 200)\n",
      "Action  1\n",
      "t : 460\n",
      "t : 480\n",
      "\tSync for config  1 (40, 200)\n",
      "Action  1\n",
      "t : 500\n",
      "t : 520\n",
      "\tSync for config  1 (40, 200)\n",
      "Action  1\n",
      "t : 540\n",
      "t : 560\n",
      "\tSync for config  1 (40, 200)\n",
      "Action  1\n",
      "t : 580\n",
      "t : 600\n",
      "\tSync for config  1 (40, 200)\n",
      "Action  1\n",
      "t : 620\n",
      "t : 640\n",
      "\tSync for config  1 (40, 200)\n",
      "Action  1\n",
      "t : 660\n",
      "t : 680\n",
      "\tSync for config  1 (40, 200)\n",
      "Action  1\n",
      "t : 700\n",
      "t : 720\n",
      "\tSync for config  1 (40, 200)\n",
      "Action  1\n",
      "t : 740\n",
      "t : 760\n",
      "\tSync for config  1 (40, 200)\n",
      "Action  1\n",
      "t : 780\n",
      "t : 800\n",
      "\tSync for config  1 (40, 200)\n",
      "Action  1\n",
      "t : 820\n",
      "t : 840\n",
      "\tSync for config  1 (40, 200)\n",
      "Action  1\n",
      "t : 860\n",
      "t : 880\n",
      "\tSync for config  1 (40, 200)\n",
      "Action  1\n",
      "t : 900\n",
      "t : 920\n",
      "\tSync for config  1 (40, 200)\n",
      "Action  1\n",
      "t : 940\n",
      "t : 960\n",
      "\tSync for config  1 (40, 200)\n",
      "Action  1\n",
      "t : 980\n"
     ]
    }
   ],
   "source": [
    "dt = 20\n",
    "gmcfSyncConfigurations = [(2,10),(4,6),(10,8)]\n",
    "\n",
    "def gmcfCheckSync(sim_time,gmcfSyncConfigurations):\n",
    "    current_sync_config=0;\n",
    "    for (exchange_period,t_offset) in gmcfSyncConfigurations:\n",
    "        current_sync_config+=1\n",
    "        if sim_time >= t_offset and (sim_time-t_offset) % exchange_period == 0:\n",
    "            print(\"\\tSync for config \",current_sync_config,(exchange_period*dt,t_offset*dt))\n",
    "            return current_sync_config       \n",
    "        \n",
    "for t in range(50):\n",
    "    print(\"t :\",t*dt)\n",
    "    sync_case = gmcfCheckSync(t,gmcfSyncConfigurations)\n",
    "    \n",
    "    if sync_case == 1:\n",
    "        print(\"Action \",sync_case)\n",
    "    elif sync_case == 2:\n",
    "        print(\"Action \",sync_case)\n",
    "    elif sync_case == 3:\n",
    "        print(\"Action \",sync_case)\n",
    "        "
   ]
  },
  {
   "cell_type": "markdown",
   "metadata": {
    "deletable": true,
    "editable": true
   },
   "source": [
    "Now, what we also need is the information about what to do at a given sync step. I think I'll do this via a case statement."
   ]
  },
  {
   "cell_type": "markdown",
   "metadata": {
    "deletable": true,
    "editable": true
   },
   "source": [
    "\n",
    "\n",
    "### Request or Push?\n",
    "\n",
    "The main question to decide is if there is an advantage to the `request` approach.\n",
    "\n",
    "I think the request approach is necessary when a model does not always need the same information. But because the whole current setup is compile-time decided, I think we can actually skip the requests and simply send the required data after syncing:\n",
    "\n",
    "    call gmcfSync(sync_cases, sync_case)\n",
    "    select (sync_case)\n",
    "        case UVW_TO_OCEAN:\n",
    "            call gmcfSend(...)\n",
    "        case T_FROM_ATMOSPHERE:\n",
    "            call gmcfWait(...)        \n",
    "            call gmcfReceive(...)        \n",
    "        "
   ]
  },
  {
   "cell_type": "markdown",
   "metadata": {
    "deletable": true,
    "editable": true
   },
   "source": [
    "### Atmosphere model actions\n",
    "\n",
    "1. The `atmosphere` model will send `wind_profile` to the `ocean` model using the `ATMOSPHERE_SYNC_PERIOD` and `ATMOSPHERE_SYNC_OFFSET`\n",
    "2. The `atmosphere` model will receive `temp` from the `ocean` model using the `OCEAN_SYNC_PERIOD` and `OCEAN_SYNC_OFFSET`\n",
    "\n",
    "The actions are then: \n",
    "- check for sync point\n",
    "- sync\n",
    "- send `wind_profile`\n",
    "- wait for `temp`\n",
    "- read `temp`\n",
    "\n",
    "\n",
    "Currently we have following code:\n",
    "\n",
    "        t_sync = t_atmosphere / t_sync_step ! means atmosphere steps are smaller and more frequent than ocean\n",
    "        t_inter = mod(t_atmosphere,t_sync_step) ! for interpolation between two steps of atmosphere\n",
    "        t_atmosphere = t_atmosphere + 1\n",
    "\n",
    "This code assumes that there are two  models that exchange info with a fixed period. The new model defines a sync point purely in terms of the quantised time step of the model. \n",
    "\n",
    "I will assume that the time step of the original code for every model is simply 1, the start time 0. \n",
    "So inside the `gmcfSync` subroutine we multiply this with the appropriate time step and add any required offset.\n",
    "\n",
    "Suppose the original code would not be so well-behaved then we need to do it a bit more complicated:\n",
    "\n",
    "    delta_t = DELTA_T_SEC ! just to complicate matters\n",
    "    do t = t_start, t_stop, t_step \n",
    "    ! the model will use this relative time `t` for its computations\n",
    "    ! The absolute time is \n",
    "    t_in_min = t*delta_t/60\n",
    "    t_norm = (t_in_min / GMCF_TIME_QUANTUM) \n",
    "\n",
    "For example if `t_start=3` and `t_step=4` then `t = 3,7,11,15,...`\n",
    "What we want is the number of quanta elapsed since the start of the simulation.\n",
    "So first we substract the offset `t_start`: `t-t_start = 0,4,8,12,...`\n",
    "Then we divide by `t_step`: `t_start`: `(t-t_start)/t_step = 0,1,2,3,...`\n",
    "Let's call this the `n_ticks`:\n",
    "\n",
    "    n_ticks = (t-t_start)/t_step\n",
    "\n",
    "\n",
    "Now we need to relate this to the quanta, and we know that the `GMCF_TIME_QUANTUM` is the GCD. The interval in minutes between two ticks is `t_step*delta_t/60` so to get the number of quanta, we have\n",
    "\n",
    "    quanta_per_tick = ( t_step*delta_t/60 ) / GMCF_TIME_QUANTUM\n",
    "    \n",
    "This is `GMCF_TIME_STEP_ATMOSPHERE`, so the input for `gmcfSync` is the `n_ticks`.\n",
    "\n",
    "Sanity check: for the ocean model, `Delta_t` = 20 minutes or 20*60 seconds; `t_step=1; t_start=0`\n",
    "\n",
    "So we have:\n",
    "\n",
    "    n_ticks = t\n",
    "    GMCF_TIME_STEP_OCEAN = quanta_per_tick = ( 1*20*60/60 ) / 20 = 1\n",
    "\n",
    "\n",
    "So `n_ticks` is the value that goes into the `gmcfSync` call. In the call we need the number of quanta elapsed since the start of the simulation, this should be `n_ticks * GMCF_TIME_STEP_ATMOSPHERE + GMCF_TIME_OFFSET_ATMOSPHERE`:\n",
    "\n",
    "    sim_time = n_ticks * GMCF_TIME_STEP_ATMOSPHERE + GMCF_TIME_OFFSET_ATMOSPHERE\n",
    "    \n",
    "We then compare `sim_time` to the possible sync configurations for the model.\n",
    "\n",
    "The call to `gmcfSync` is blocking. I think we should do nothing else in the `gmcfSyncAtmosphere` call.\n",
    "Instead, the `gmcfSyncAtmosphere` should return the `current_sync_config` and the `gmcfPreAtmosphere` call should use this to decide if it has to send or receive.\n",
    "\n",
    "We can make `current_sync_config` and `is_sync_point` module globals, so that we don't have to pass them explicitly between the calls.\n"
   ]
  },
  {
   "cell_type": "markdown",
   "metadata": {
    "deletable": true,
    "editable": true
   },
   "source": [
    "### Need for Pre/Post?\n",
    "\n",
    "The order of events is:\n",
    "- sync if required\n",
    "- if sync, exchange data (PRE)\n",
    "- compute\n",
    "- if sync, exchange data (POST)\n",
    "\n",
    "Arguably, we should receive in PRE and send in POST, because that means we compute using newly received values and send newly computed values. \n",
    "\n",
    "However, if I do that with two models, then in the PRE stage both models wait for data, so there will be deadlock! To avoid that I should let each model send the data right away, in PRE.\n",
    "Clearly, both models will then also receive in PRE. After computation they could in principle send the data too, and then that data would be pending in the queue until a sync, and then there would be no need for a send in PRE. But that is unsafe ans serves no particular purpose. So I guess POST has no use for the case of mutual exchange. If the models are actually dependent, i.e. not running concurrently, then POST is useful."
   ]
  },
  {
   "cell_type": "markdown",
   "metadata": {
    "deletable": true,
    "editable": true
   },
   "source": [
    "### Note about organisation of the configurations\n",
    "\n",
    "At the moment I use parameters such as `GMCF_TIME_STEP_<model>`. This is unpractical. A better way is to create a record type for all the configuration data, and then create an array of records for all models. That will make the overall code much more generic. But what to put in a configuration is not so easy to determine.\n",
    "\n"
   ]
  },
  {
   "cell_type": "markdown",
   "metadata": {
    "deletable": true,
    "editable": true
   },
   "source": [
    "### Domain interpolation\n",
    "\n",
    "I want the atmosphere domain to be twice as large as the ocean domain but with `1/5` of the resolution\n",
    "So if the ocean is `100 x 100`, the atmosphere will be `200/5 x 200/5`\n",
    "\n",
    "\n",
    "\n",
    "Now suppose I want the ocean to cover from `30/5` to `130/5` and from `40/5` to `140/5`\n",
    "\n",
    "    integer, parameter :: ATMOSPHERE_IP=48,ATMOSPHERE_JP=48,ATMOSPHERE_KP=27\n",
    "            \n",
    "The ratio is encoded in \n",
    "\n",
    "    integer, parameter :: ATMOSPHERE_DI=5,ATMOSPHERE_DJ=5,ATMOSPHERE_DK=1\n",
    "            \n",
    "I'm not happy with these names. The correct approach would be to define OCEAN_OFFSET_FROM_ATMOSPHERE_X, OCEAN_OFFSET_FROM_ATMOSPHERE_Y \n",
    "\n",
    "    integer, parameter :: ATMOSPHERE_IMS=6,ATMOSPHERE_JMS=8,ATMOSPHERE_KMS=1\n",
    "    integer, parameter :: ATMOSPHERE_IME=26,ATMOSPHERE_JME=28,ATMOSPHERE_KME=27\n"
   ]
  },
  {
   "cell_type": "markdown",
   "metadata": {
    "deletable": true,
    "editable": true
   },
   "source": [
    "### Time interpolation\n",
    "\n",
    "- Time interpolation actually only works in proper producer-consumer cases\n",
    "- In a case with mutual exchange of data, interpolation is impossible without introducing an artificial phase shift, so the action of one model will lag on the action of another. With more than two models this would I think quickly result in incorrect simulations.\n",
    "- The alternative, extrapolation, leads to potential overshoot on maxima and undershoot on minima, as well as introduction of higher-order frequencies in the signal.\n",
    "- So piecewise constant is the best possible alternative? Maybe not. What we can do is interpolate between the old and the new value, leaving the new value as the last one in the interval.\n",
    "This requires us to know how many ticks there are between updates. \n",
    "\n",
    "\n",
    "\n"
   ]
  },
  {
   "cell_type": "markdown",
   "metadata": {
    "deletable": true,
    "editable": true
   },
   "source": [
    "### Ocean model actions\n",
    "\n",
    "1. The `ocean` model will send `temp` to the `atmosphere` model using the `OCEAN_SYNC_PERIOD` and `OCEAN_SYNC_OFFSET`\n",
    "2. The `ocean` model will receive `wind_profile` from the `atmosphere` model using the `ATMOSPHERE_SYNC_PERIOD` and `ATMOSPHERE_SYNC_OFFSET`\n",
    "\n",
    "The actions are then: \n",
    "- check for sync point\n",
    "- sync\n",
    "- send `temp`\n",
    "- wait for `wind_profile`\n",
    "- read `wind_profile`"
   ]
  },
  {
   "cell_type": "markdown",
   "metadata": {
    "collapsed": true,
    "deletable": true,
    "editable": true
   },
   "source": [
    "## 2017-06-15\n",
    "\n",
    "Space interpolation: fortunately we can take this straight from Numerical Recipes and I already wrote most of the code. \n",
    "Main change this involves is that I need to provide auxiliary arrays with the latitudinal and longitudinal coordinates, or for the simple case at least the offset and grid size. \n"
   ]
  },
  {
   "cell_type": "markdown",
   "metadata": {
    "collapsed": true,
    "deletable": true,
    "editable": true
   },
   "source": [
    "## 2017-06-16\n",
    "\n",
    "I thought about a test scenario and realised that basically there are two possibilities: \n",
    "\n",
    "- Concurrent: the two models sync, exchange data, work, repeat;\n",
    "- Dependent: the two models sync, model1 sends to model2, model2 works, model2 sends to model1, model1 works, repeat\n",
    "\n",
    "The concurrent case is I think most representative for e.g. ocean-atmosphere interactions as clearly they both \"run\" in parallel.\n"
   ]
  },
  {
   "cell_type": "code",
   "execution_count": 414,
   "metadata": {
    "collapsed": false,
    "deletable": true,
    "editable": true
   },
   "outputs": [
    {
     "name": "stdout",
     "output_type": "stream",
     "text": [
      "3.0 -2\n",
      "2.0 -8.0\n",
      "-2.0 -12.0\n",
      "-8.0 -8.0\n",
      "-12.0 8.0\n",
      "-8.0 32.0\n",
      "8.0 48.0\n",
      "32.0 32.0\n",
      "48.0 -32.0\n",
      "32.0 -128.0\n"
     ]
    }
   ],
   "source": [
    "# Concurrent case: \n",
    "\n",
    "def f1(v1,v2):\n",
    "    return v1+v2/2.0\n",
    "\n",
    "def f2(v1,v2):\n",
    "    return v1-2*v2\n",
    "    \n",
    "v1=2\n",
    "v2=2\n",
    "for t in range(0,10):\n",
    "    v1r = v1\n",
    "    v2r = v2\n",
    "    v1 = f1(v1r, v2r)\n",
    "    v2 = f2(v2r, v1r)    \n",
    "    print(v1,v2)\n",
    "    \n",
    "    "
   ]
  },
  {
   "cell_type": "code",
   "execution_count": 415,
   "metadata": {
    "collapsed": false,
    "deletable": true,
    "editable": true
   },
   "outputs": [
    {
     "name": "stdout",
     "output_type": "stream",
     "text": [
      "[1, 2]\n",
      "[2, 3]\n",
      "[3, 5]\n",
      "[5, 8]\n",
      "[8, 13]\n",
      "[13, 21]\n",
      "[21, 34]\n",
      "[34, 55]\n",
      "[55, 89]\n",
      "[89, 144]\n"
     ]
    }
   ],
   "source": [
    "# Dependent case : Fibonacci\n",
    "\n",
    "def f1(v):\n",
    "    return v[0]+v[1]\n",
    "\n",
    "def f2(v1,v2):\n",
    "    return [v1[1],v2]\n",
    "    \n",
    "v1=0\n",
    "v2=[1,1]\n",
    "for t in range(0,10):\n",
    "    v2r = v2\n",
    "    v1 = f1(v2r)\n",
    "    v1r = v1    \n",
    "    v2 = f2(v2, v1r)    \n",
    "    print(v2)"
   ]
  },
  {
   "cell_type": "markdown",
   "metadata": {
    "deletable": true,
    "editable": true
   },
   "source": [
    "The main task to do to finish step 1 of my action plan is to create the `lat` and `lon` coordinate arrays."
   ]
  },
  {
   "cell_type": "markdown",
   "metadata": {
    "collapsed": true,
    "deletable": true,
    "editable": true
   },
   "source": [
    "## 2017-06-19"
   ]
  },
  {
   "cell_type": "markdown",
   "metadata": {
    "deletable": true,
    "editable": true
   },
   "source": [
    "### In terms of the action plan, I think I have now do steps 1, 2 and 3. So now I need to test the system in its current state.\n",
    "\n",
    "* Test functionality without any interpolation: use the test example above. But what I think I'll do is read the v1 and v2 from the temperature and wind profile arrays. Also, I will make the u,v,w and temp arrays the same size in both models.\n",
    "\n",
    "!!! FIXME: the `.tdc64` file *must* currently be named `gmfc.tdc64` because it is hardcoded in `gmcfCoupler.cc`\n",
    "\n",
    "But apart from that, after some fumbling with Fortran print formats\n",
    "\n",
    "        print 7188, model_id, v1,t_surface(1,1),u(1,1,1)\n",
    "        7188 format(\"FORTRAN MODEL \",i1, \" v1 = \",f8.1,' = (',f8.1,' + ',f8.1,' / 2 )')\n",
    "                 \n",
    "This produces the same output as the example above:\n",
    "\n",
    "        [ocean-atmosphere-model-coupling]$ ./gmcfCoupler | grep 'v1'\n",
    "        FORTRAN MODEL 1 v1 =      3.0 = (     2.0 +      2.0 / 2 )\n",
    "        FORTRAN MODEL 1 v1 =      2.0 = (     3.0 +     -2.0 / 2 )\n",
    "        FORTRAN MODEL 1 v1 =     -2.0 = (     2.0 +     -8.0 / 2 )\n",
    "        FORTRAN MODEL 1 v1 =     -8.0 = (    -2.0 +    -12.0 / 2 )\n",
    "        FORTRAN MODEL 1 v1 =    -12.0 = (    -8.0 +     -8.0 / 2 )\n",
    "        FORTRAN MODEL 1 v1 =     -8.0 = (   -12.0 +      8.0 / 2 )\n",
    "        FORTRAN MODEL 1 v1 =      8.0 = (    -8.0 +     32.0 / 2 )\n",
    "        FORTRAN MODEL 1 v1 =     32.0 = (     8.0 +     48.0 / 2 )\n",
    "        FORTRAN MODEL 1 v1 =     48.0 = (    32.0 +     32.0 / 2 )\n",
    "        FORTRAN MODEL 1 v1 =     32.0 = (    48.0 +    -32.0 / 2 )\n",
    "        FORTRAN MODEL 1 v1 =    -32.0 = (    32.0 +   -128.0 / 2 )\n"
   ]
  },
  {
   "cell_type": "markdown",
   "metadata": {
    "deletable": true,
    "editable": true
   },
   "source": [
    "## 2017-06-20"
   ]
  },
  {
   "cell_type": "markdown",
   "metadata": {
    "deletable": true,
    "editable": true
   },
   "source": [
    "* The next step I think is to use different domain sizes but simply pick a subdomain with the size of the smallest domain for transfers. We can test this by using values from the lower-left and upper-right corners and compute the same function for both of them.\n",
    "\n",
    "I want this subdomain to be static, and it would be part of the scenario eventually. So I guess we just need a subroutine that takes the original domain array, the target subdomain array and the corner index 4-tuple,"
   ]
  },
  {
   "cell_type": "markdown",
   "metadata": {
    "deletable": true,
    "editable": true
   },
   "source": [
    "```fortran\n",
    "    subroutine gmcfExtract2DSubdomain(subd_indices, domain, subdomain)\n",
    "        integer, dimension(4), intent(In) :: subd_indices\n",
    "        real(kind=4), dimension(:,:) , intent(In) :: domain\n",
    "        real(kind=4), dimension(:,:) , intent(InOut) :: subdomain\n",
    "        subdomain = domain(subd_indices(1):subd_indices(2),subd_indices(3):subd_indices(4))\n",
    "    end subroutine gmcfExtract2DSubdomain\n",
    "```    "
   ]
  },
  {
   "cell_type": "markdown",
   "metadata": {
    "deletable": true,
    "editable": true
   },
   "source": [
    "As the ocean model sends a subdomain to the atmosphere model, we need another subroutine to insert this subdomain into the domain as well:\n",
    "```fortran    \n",
    "    subroutine gmcfInsert2DSubdomain(subd_indices, domain, subdomain)\n",
    "        integer, dimension(4), intent(In) :: subd_indices\n",
    "        real(kind=4), dimension(:,:) , intent(InOut) :: domain\n",
    "        real(kind=4), dimension(:,:) , intent(In) :: subdomain\n",
    "        domain(subd_indices(1):subd_indices(2),subd_indices(3):subd_indices(4))=subdomain\n",
    "    end subroutine gmcfInsert2DSubdomain\n",
    "```    "
   ]
  },
  {
   "cell_type": "markdown",
   "metadata": {
    "deletable": true,
    "editable": true
   },
   "source": [
    "Next step: different time steps, e.g. the ones from original models.\n",
    "\n",
    "    "
   ]
  },
  {
   "cell_type": "code",
   "execution_count": 416,
   "metadata": {
    "collapsed": false,
    "deletable": true,
    "editable": true
   },
   "outputs": [
    {
     "name": "stdout",
     "output_type": "stream",
     "text": [
      "    FORTRAN MODEL 1 v1b =        2.0 = (      2.0 +      2.0 / 200 )\n",
      "    FORTRAN MODEL 1 v1b =        2.7 = (      2.7 +    -10.0 / 200 )\n",
      "    FORTRAN MODEL 1 v1b =       -1.0 = (     -0.9 +    -26.3 / 200 )\n",
      "    FORTRAN MODEL 1 v1b =      -10.5 = (    -10.4 +    -21.0 / 200 )\n",
      "    FORTRAN MODEL 1 v1b =      -17.7 = (    -17.9 +     41.1 / 200 )\n",
      "    FORTRAN MODEL 1 v1b =       -2.4 = (     -3.1 +    148.7 / 200 )\n",
      "    FORTRAN MODEL 1 v1b =       51.2 = (     50.4 +    167.5 / 200 )\n",
      "    FORTRAN MODEL 1 v1b =      110.0 = (    110.7 +   -134.8 / 200 )\n",
      "    FORTRAN MODEL 1 v1b =       58.2 = (     62.1 +   -798.9 / 200 )\n",
      "    FORTRAN MODEL 1 v1b =     -231.3 = (   -225.5 +  -1171.8 / 200 )\n",
      "    FORTRAN MODEL 1 v1b =     -646.4 = (   -647.3 +    181.0 / 200 )\n"
     ]
    }
   ],
   "source": [
    "# Concurrent case with different time steps and a long sync period\n",
    "\n",
    "quantum = 20 # minutes\n",
    "sync_period = 1*24*3 # quanta\n",
    "\n",
    "ocean_sync_period = sync_period # quanta\n",
    "ocean_timestep = 1 # quantum\n",
    "ocean_offset = 0 \n",
    "atmosphere_timestep = 24 # quanta\n",
    "atmosphere_offset = 0\n",
    "atmosphere_sync_period = sync_period\n",
    "\n",
    "def ocean(v1,v2):\n",
    "    return v1+v2/200.0\n",
    "\n",
    "def atmosphere(v1,v2):\n",
    "    return v1-2*v2\n",
    "    \n",
    "v1=2\n",
    "v1b=2\n",
    "v2=2\n",
    "v2b=2\n",
    "n_ticks_ocean=0\n",
    "n_ticks_atmosphere=0\n",
    "for t in range(0,770):\n",
    "\n",
    "    sim_time_ocean=n_ticks_ocean*ocean_timestep+ocean_offset\n",
    "    sim_time_atmosphere=n_ticks_atmosphere*atmosphere_timestep+atmosphere_offset\n",
    "#     print(t,sim_time_ocean,sim_time_atmosphere,sim_time_ocean% sync_period==0,sim_time_atmosphere % sync_period==0,sync_period)\n",
    "# ocean and atmosphere sync \n",
    "    if (sim_time_ocean% sync_period==0 and sim_time_atmosphere % sync_period==0):\n",
    "#         print(t,v1,v2)\n",
    "#         print('FORTRAN MODEL 1 v1b = %8.1f + %8.1f /200.0' % (v1,v2))\n",
    "        v1r = v1\n",
    "        v2r = v2\n",
    "        \n",
    "# ocean computes for every t \n",
    "    if (t % ocean_timestep == 0):\n",
    "        n_ticks_ocean+=1\n",
    "        v1b = ocean(v1, v2r)\n",
    "        if (t%72==0):\n",
    "            print('\\tFORTRAN MODEL 1 v1b =\\t%8.1f = ( %8.1f + %8.1f / 200 )'.expandtabs(4) % (v1b,v1,v2))\n",
    "        v1=v1b\n",
    "        \n",
    "# atmosphere computes \n",
    "    if t % atmosphere_timestep == 0:\n",
    "        n_ticks_atmosphere+=1         \n",
    "        v2 = atmosphere(v2, v1r)    \n",
    "\n",
    "    "
   ]
  },
  {
   "cell_type": "markdown",
   "metadata": {
    "deletable": true,
    "editable": true
   },
   "source": [
    "The Fortran coupled model yields:\n",
    "\n",
    "    [ocean-atmosphere-model-coupling]$ ./gmcfCoupler | grep v1b\n",
    "    FORTRAN MODEL 1 v1b =      2.0 = (     2.0 +      2.0 / 200 )\n",
    "    FORTRAN MODEL 1 v1b =      2.7 = (     2.7 +    -10.0 / 200 )\n",
    "    FORTRAN MODEL 1 v1b =     -1.0 = (    -0.9 +    -26.3 / 200 )\n",
    "    FORTRAN MODEL 1 v1b =    -10.5 = (   -10.4 +    -21.0 / 200 )\n",
    "    FORTRAN MODEL 1 v1b =    -17.7 = (   -17.9 +     41.1 / 200 )\n",
    "    FORTRAN MODEL 1 v1b =     -2.4 = (    -3.1 +    148.7 / 200 )\n",
    "    FORTRAN MODEL 1 v1b =     51.2 = (    50.4 +    167.5 / 200 )\n",
    "    FORTRAN MODEL 1 v1b =    110.0 = (   110.7 +   -134.8 / 200 )\n",
    "    FORTRAN MODEL 1 v1b =     58.2 = (    62.1 +   -798.9 / 200 )\n",
    "    FORTRAN MODEL 1 v1b =   -231.3 = (  -225.5 +  -1171.8 / 200 )\n",
    "    FORTRAN MODEL 1 v1b =   -646.4 = (  -647.3 +    181.0 / 200 )\n",
    "    \n",
    "So all is well. We can now move on to time and space interpolation. First, space interpolation. \n",
    "\n"
   ]
  },
  {
   "cell_type": "markdown",
   "metadata": {},
   "source": [
    "## 2017-06-21 "
   ]
  },
  {
   "cell_type": "markdown",
   "metadata": {},
   "source": [
    "## Spatial interpolation revisited\n",
    "- The subdomain must be larger in terms of coordinate box than the target domain, i.e. the coordinates corresponding to the corners of the subdomain but in the atmosphere domain must create a box that is larger than the coordinate box for the complete ocean domain.\n",
    "- A consequence of interpolation is that the temperature values going from the ocean to the atmosphere will be computed  only for the inner points of the subdomain, not the boundary. We can either copy the points or extrapolate.\n",
    "\n",
    "### Spatial interpolation on constant-spaced grids\n",
    "\n",
    "If the lat and lon coordinates for both grids have a constant spacing, interpolation becomes simpler because we do not have to find the starting index for the interpolation by search through the coordinates. Instead, we can simply calculate it.\n",
    "I use `_t` for _target_, `_o` for _original_, `_g` for _given_ `_c` for _calculated_.\n",
    "```fortran\n",
    "    subroutine calc_idx_ratio(x_g,x_0,d_x,i_c,a_c)\n",
    "        integer, intent(InOut) :: i_c\n",
    "        real(kind=4), intent(InOut) :: a_c\n",
    "        real(kind=4), intent(In) :: x_g, x_0, d_x\n",
    "        real(kind=4) :: i_a\n",
    "        i_a = (x_g-x_o)/d_x\n",
    "        i_c = int( i_a )\n",
    "        a_c = i_a - real(i_c)\n",
    "    end subroutine calc_idx_ratio\n",
    "```"
   ]
  },
  {
   "cell_type": "markdown",
   "metadata": {},
   "source": [
    "Now, `x_g` is defined by the offset and spacing of the grid:"
   ]
  },
  {
   "cell_type": "markdown",
   "metadata": {},
   "source": [
    "Then with these values for lat and lon, we can easily do bilinear interpolation on an array v. \n",
    "\n",
    "    x_g = (i_t - i_b_t)*d_x_t+x_0_t\n",
    "    y_g = (j_t - j_b_t)*d_y_t+y_0_t\n",
    "    (i_c,ax_c) = calc_idx_ratio_coord(x_g,x_0_o,d_x_o)    \n",
    "    (j_c,ay_c) = calc_idx_ratio_coord(y_g,y_0_o,d_y_o)\n",
    "    "
   ]
  },
  {
   "cell_type": "code",
   "execution_count": 417,
   "metadata": {
    "collapsed": true
   },
   "outputs": [],
   "source": [
    "# For simplicity I will assume that the indices start at 0\n",
    "def calc_coord(idx,d_x,x_0):\n",
    "    x_g = idx*d_x+x_0\n",
    "    return x_g"
   ]
  },
  {
   "cell_type": "code",
   "execution_count": 418,
   "metadata": {
    "collapsed": false
   },
   "outputs": [],
   "source": [
    "import math\n",
    "def calc_idx_ratio_coord(x_g,d_x,x_0):\n",
    "#     print('<X',x_g,'-',x_0,'/',d_x,'>', end='')\n",
    "    i_a = (x_g-x_0)/(1.0*d_x)\n",
    "    i_c = math.floor( i_a )\n",
    "    a_c = i_a - i_c\n",
    "#     print('<I',i_a,';',i_c,',',a_c,'>', end='')    \n",
    "    return (i_c,a_c) \n",
    "\n",
    "# For convenience we can combine both functions\n",
    "\n",
    "def calc_idx_ratio(i_t,d_x_t,x_0_t,d_x_o,x_0_o):\n",
    "    x_g = calc_coord(i_t,d_x_t,x_0_t)\n",
    "#     print('<G',x_g,'>', end='')\n",
    "    (i_c,a_c) = calc_idx_ratio_coord(x_g,d_x_o,x_0_o)\n",
    "    return (i_c,a_c) \n"
   ]
  },
  {
   "cell_type": "markdown",
   "metadata": {},
   "source": [
    "The four points enclosing (x_g,y_g) are given by\n",
    "\n",
    "    v(i_c,j_c)\n",
    "    v(i_c+1,j_c)\n",
    "    v(i_c,j_c+1)\n",
    "    v(i_c+1,j_c+1)\n",
    "    \n",
    "Calculating the target value for v is now very simple: the weight of each corner point is proportional to the area between the target point and the opposite corner:"
   ]
  },
  {
   "cell_type": "code",
   "execution_count": 419,
   "metadata": {
    "collapsed": true
   },
   "outputs": [],
   "source": [
    "def bilin_interpol_point(v,i_c,ax_c,j_c,ay_c):\n",
    "#     print(v[i_c][j_c],ax_c,ay_c,v[i_c+1][j_c],(1-ax_c),ay_c,v[i_c][j_c+1],ax_c,(1-ay_c) ,v[i_c+1][j_c+1],(1-ax_c),(1-ay_c))\n",
    "#     print(v[i_c][j_c],v[i_c+1][j_c],v[i_c][j_c+1],v[i_c+1][j_c+1],end=' ')\n",
    "    v_t = \\\n",
    "        v[i_c][j_c]*(1-ax_c)*(1-ay_c) + \\\n",
    "        v[i_c+1][j_c]*(ax_c)*(1-ay_c) + \\\n",
    "        v[i_c][j_c+1]*(1-ax_c)*(ay_c) + \\\n",
    "        v[i_c+1][j_c+1]*(ax_c)*(ay_c)\n",
    "    return v_t                          "
   ]
  },
  {
   "cell_type": "markdown",
   "metadata": {},
   "source": [
    "So let's test this with following example:"
   ]
  },
  {
   "cell_type": "code",
   "execution_count": 420,
   "metadata": {
    "collapsed": false
   },
   "outputs": [
    {
     "name": "stdout",
     "output_type": "stream",
     "text": [
      "(20,20)\t(20,35)\t(20,50)\t(20,65)\t(20,80)\t\n",
      "(35,20)\t(35,35)\t(35,50)\t(35,65)\t(35,80)\t\n",
      "(50,20)\t(50,35)\t(50,50)\t(50,65)\t(50,80)\t\n",
      "(65,20)\t(65,35)\t(65,50)\t(65,65)\t(65,80)\t\n",
      "(80,20)\t(80,35)\t(80,50)\t(80,65)\t(80,80)\t\n"
     ]
    }
   ],
   "source": [
    "# Original grid (this would be the subdomain from the atmosphere)\n",
    "\n",
    "n_x_o = 5\n",
    "n_y_o = 5\n",
    "\n",
    "x_0_o = 20\n",
    "d_x_o = 15\n",
    "\n",
    "y_0_o = 20\n",
    "d_y_o = 15\n",
    "\n",
    "for i_o in range(0,n_x_o):\n",
    "    for j_o in range(0,n_y_o):\n",
    "        x_g = calc_coord(i_o,d_x_o,x_0_o)\n",
    "        y_g = calc_coord(j_o,d_y_o,y_0_o)\n",
    "        print(\"(%d,%d)\" % (x_g,y_g),end=\"\\t\")\n",
    "    print('')"
   ]
  },
  {
   "cell_type": "code",
   "execution_count": 421,
   "metadata": {
    "collapsed": false
   },
   "outputs": [
    {
     "name": "stdout",
     "output_type": "stream",
     "text": [
      "(0,0):(26,26)\t(0,1):(26,34)\t(0,2):(26,42)\t(0,3):(26,50)\t(0,4):(26,58)\t(0,5):(26,66)\t(0,6):(26,74)\t\n",
      "(1,0):(34,26)\t(1,1):(34,34)\t(1,2):(34,42)\t(1,3):(34,50)\t(1,4):(34,58)\t(1,5):(34,66)\t(1,6):(34,74)\t\n",
      "(2,0):(42,26)\t(2,1):(42,34)\t(2,2):(42,42)\t(2,3):(42,50)\t(2,4):(42,58)\t(2,5):(42,66)\t(2,6):(42,74)\t\n",
      "(3,0):(50,26)\t(3,1):(50,34)\t(3,2):(50,42)\t(3,3):(50,50)\t(3,4):(50,58)\t(3,5):(50,66)\t(3,6):(50,74)\t\n",
      "(4,0):(58,26)\t(4,1):(58,34)\t(4,2):(58,42)\t(4,3):(58,50)\t(4,4):(58,58)\t(4,5):(58,66)\t(4,6):(58,74)\t\n",
      "(5,0):(66,26)\t(5,1):(66,34)\t(5,2):(66,42)\t(5,3):(66,50)\t(5,4):(66,58)\t(5,5):(66,66)\t(5,6):(66,74)\t\n",
      "(6,0):(74,26)\t(6,1):(74,34)\t(6,2):(74,42)\t(6,3):(74,50)\t(6,4):(74,58)\t(6,5):(74,66)\t(6,6):(74,74)\t\n"
     ]
    }
   ],
   "source": [
    "# Target grid\n",
    "\n",
    "n_x_t = 7\n",
    "n_y_t = 7\n",
    "\n",
    "x_0_t = 26\n",
    "d_x_t = 8\n",
    "y_0_t = 26\n",
    "d_y_t = 8\n",
    "\n",
    "for i_t in range(0,n_x_t):\n",
    "    for j_t in range(0,n_y_t):\n",
    "        x_g = calc_coord(i_t,d_x_t,x_0_t)\n",
    "        y_g = calc_coord(j_t,d_y_t,y_0_t)\n",
    "        print(\"(%d,%d):(%d,%d)\" % (i_t,j_t,x_g,y_g),end=\"\\t\")\n",
    "    print('')    "
   ]
  },
  {
   "cell_type": "code",
   "execution_count": 422,
   "metadata": {
    "collapsed": false
   },
   "outputs": [
    {
     "name": "stdout",
     "output_type": "stream",
     "text": [
      "1\t3\t5\t7\t9\t\n",
      "2\t4\t6\t8\t10\t\n",
      "3\t5\t7\t9\t11\t\n",
      "4\t6\t8\t10\t12\t\n",
      "5\t7\t9\t11\t13\t\n"
     ]
    }
   ],
   "source": [
    "# Values on the original grid\n",
    "\n",
    "v_o=[]\n",
    "for i_o in range(0,n_x_o):\n",
    "    row=[]\n",
    "    for j_o in range(0,n_y_o):        \n",
    "        row+=[i_o+2*j_o+1]\n",
    "    v_o+=[row]\n",
    "for i_o in range(0,n_x_o):\n",
    "    for j_o in range(0,n_y_o):\n",
    "        print(\"%d\" % (v_o[i_o][j_o]),end=\"\\t\")\n",
    "    print('')        "
   ]
  },
  {
   "cell_type": "code",
   "execution_count": 423,
   "metadata": {
    "collapsed": false
   },
   "outputs": [
    {
     "name": "stdout",
     "output_type": "stream",
     "text": [
      "2.20 3.27 4.33 5.40 6.47 7.53 8.60 \n",
      "2.73 3.80 4.87 5.93 7.00 8.07 9.13 \n",
      "3.27 4.33 5.40 6.47 7.53 8.60 9.67 \n",
      "3.80 4.87 5.93 7.00 8.07 9.13 10.20 \n",
      "4.33 5.40 6.47 7.53 8.60 9.67 10.73 \n",
      "4.87 5.93 7.00 8.07 9.13 10.20 11.27 \n",
      "5.40 6.47 7.53 8.60 9.67 10.73 11.80 \n"
     ]
    }
   ],
   "source": [
    "# Now let's interpolate v_o for all points in the target grid and wrap it in a nice function\n",
    "# We keep the original values if a point is out of range\n",
    "\n",
    "def bilinear_interpolation(v_o,grid_o,v_t_in,grid_t):    \n",
    "    (n_x_o,d_x_o,x_0_o,n_y_o,d_y_o,y_0_o)=grid_o\n",
    "    (n_x_t,d_x_t,x_0_t,n_y_t,d_y_t,y_0_t)=grid_t    \n",
    "    v_t=v_t_in\n",
    "    for i_t in range(0,n_x_t):\n",
    "        for j_t in range(0,n_y_t):\n",
    "            (i_c,ax_c) = calc_idx_ratio(i_t,d_x_t,x_0_t,d_x_o,x_0_o)\n",
    "            (j_c,ay_c) = calc_idx_ratio(j_t,d_y_t,y_0_t,d_y_o,y_0_o)\n",
    "            if (i_c>=0 and i_c<n_x_t and j_c>=0 and j_c<n_y_t):                \n",
    "                v_t[i_t][j_t] = bilin_interpol_point(v_o,i_c,ax_c,j_c,ay_c)\n",
    "#             else:\n",
    "#                 print(\"Index out of range: (\",i_c,',',j_c,')')                                \n",
    "#                 v_t[i_t][j_t] = 0.0 # for testing               \n",
    "    return v_t\n",
    "\n",
    "v_t=[]\n",
    "for i_t in range(0,n_x_t):\n",
    "    row=[]\n",
    "    for j_t in range(0,n_y_t):        \n",
    "        row+=[0.0]\n",
    "    v_t+=[row]\n",
    "\n",
    "# Test it:\n",
    "grid_o = (n_x_o,d_x_o,x_0_o,n_y_o,d_y_o,y_0_o)\n",
    "grid_t = (n_x_t,d_x_t,x_0_t,n_y_t,d_y_t,y_0_t)    \n",
    "\n",
    "v_t = bilinear_interpolation(v_o,grid_o,v_t,grid_t)   \n",
    "\n",
    "for i_t in range(0,n_x_t):\n",
    "    for j_t in range(0,n_y_t):\n",
    "        print(\"%3.2f\" %(v_t[i_t][j_t]),end=\" \")\n",
    "    print('') \n"
   ]
  },
  {
   "cell_type": "markdown",
   "metadata": {},
   "source": [
    "#### Now the reverse operation\n",
    "\n",
    "Interpolation only works if the target grid fits inside the original grid. So the reverse operation can only be done one a subgrid of the original grid. Because we keep the original values for points that can't be interpolated be get the original array back.\n"
   ]
  },
  {
   "cell_type": "code",
   "execution_count": 424,
   "metadata": {
    "collapsed": false
   },
   "outputs": [
    {
     "name": "stdout",
     "output_type": "stream",
     "text": [
      "1.00 3.00 5.00 7.00 9.00 \n",
      "2.00 4.00 6.00 8.00 10.00 \n",
      "3.00 5.00 7.00 9.00 11.00 \n",
      "4.00 6.00 8.00 10.00 12.00 \n",
      "5.00 7.00 9.00 11.00 13.00 \n"
     ]
    }
   ],
   "source": [
    "v_oi = bilinear_interpolation(v_t,grid_t,v_o,grid_o)    \n",
    "\n",
    "for i_o in range(0,n_x_o):\n",
    "    for j_o in range(0,n_y_o):\n",
    "        print(\"%3.2f\" %(v_oi[i_o][j_o]),end=\" \")\n",
    "    print('') "
   ]
  },
  {
   "cell_type": "code",
   "execution_count": 425,
   "metadata": {
    "collapsed": false
   },
   "outputs": [
    {
     "name": "stdout",
     "output_type": "stream",
     "text": [
      "0.00 0.00 0.00 0.00 0.00 \n",
      "0.00 2.00 2.00 2.00 0.00 \n",
      "0.00 2.00 2.00 2.00 0.00 \n",
      "0.00 2.00 2.00 2.00 0.00 \n",
      "0.00 0.00 0.00 0.00 0.00 \n"
     ]
    }
   ],
   "source": [
    "v_o=[]\n",
    "for i_o in range(0,n_x_o):\n",
    "    row=[]\n",
    "    for j_o in range(0,n_y_o):        \n",
    "        row+=[0.0]\n",
    "    v_o+=[row]\n",
    "v_t=[]\n",
    "for i_t in range(0,n_x_t):\n",
    "    row=[]\n",
    "    for j_t in range(0,n_y_t):        \n",
    "        row+=[2.0]\n",
    "    v_t+=[row]\n",
    "\n",
    "v_oi = bilinear_interpolation(v_t,grid_t,v_o,grid_o)    \n",
    "\n",
    "for i_o in range(0,n_x_o):\n",
    "    for j_o in range(0,n_y_o):\n",
    "        print(\"%3.2f\" %(v_oi[i_o][j_o]),end=\" \")\n",
    "    print('') \n",
    "\n",
    "    "
   ]
  },
  {
   "cell_type": "markdown",
   "metadata": {},
   "source": [
    "Interesting point: in Fortran the result was not the same because I originally had\n",
    "\n",
    "```fortran\n",
    "        int( i_a )\n",
    "```       \n",
    "as equivalent of Python's\n",
    "```python\n",
    "        math.floor( i_a )\n",
    "```        \n",
    "However, the correct version is\n",
    "```fortran\n",
    "        int( floor(i_a) )\n",
    "```        \n",
    "because \n",
    "\n",
    "        int(x), -1.0 < x < 0.0 == 0\n",
    "        \n",
    "whereas \n",
    "\n",
    "        floor(x), -1.0 < x < 0.0 == -1.0\n",
    "        \n",
    "        "
   ]
  },
  {
   "cell_type": "markdown",
   "metadata": {},
   "source": [
    "### Spatial interpolation on non-constant-spaced grids\n",
    "\n",
    "For this we use the code based on the Numerical Recipes book. However, this seems optimised for sequential execution\n",
    "\n",
    "#### Computational cost and parallelisation\n",
    "\n",
    "If the spacing is irregular, we need to find the indices in the original array between which the given coord point is to be interpolated. The naive way is to iterate through the indices, calculated the original coordinate, compare, and stop when the orig coord is larger than the given coord. The index is the one before that.\n",
    "Caching the found index is a good optimisation for a sequential algorithm. Assuming the grid sizes are $n_t$ and $n_o$, then the naive approach requires $O(n_t.n_o)$, whereas the cached version only $O(n_t)$.\n",
    "\n",
    "If we want to parallelise the operation, we can't use this approach. I think the best case is a bisection search as this will cost $O(n_t.log_2(n_o))$ and given sufficient parallelism it can be $O(log_2(n_o))$. Note that the constant space version of course would be $O(1)$.\n"
   ]
  },
  {
   "cell_type": "markdown",
   "metadata": {},
   "source": [
    "## Spatial interpolation test\n",
    "\n",
    "As a start we test with the same conditions as above, the idea is that we receive the fields, interpolate , interpolate in reverse and send them back, and there should be no change.\n",
    "\n",
    "First of all, I set all sizes to the test above, OK.\n",
    "\n",
    "Now I try interpolation, `test_interpolation.f95` to make sure the F95 code works like the Python code, OK.\n",
    "\n",
    "    [Models]$./test_interpolation\n",
    "     Orig\n",
    "      1.00  3.00  5.00  7.00  9.00\n",
    "      2.00  4.00  6.00  8.00 10.00\n",
    "      3.00  5.00  7.00  9.00 11.00\n",
    "      4.00  6.00  8.00 10.00 12.00\n",
    "      5.00  7.00  9.00 11.00 13.00\n",
    "     Interpolation\n",
    "      2.20  3.27  4.33  5.40  6.47  7.53  8.60\n",
    "      2.73  3.80  4.87  5.93  7.00  8.07  9.13\n",
    "      3.27  4.33  5.40  6.47  7.53  8.60  9.67\n",
    "      3.80  4.87  5.93  7.00  8.07  9.13 10.20\n",
    "      4.33  5.40  6.47  7.53  8.60  9.67 10.73\n",
    "      4.87  5.93  7.00  8.07  9.13 10.20 11.27\n",
    "      5.40  6.47  7.53  8.60  9.67 10.73 11.80\n",
    "     Reconstruction\n",
    "      1.00  3.00  5.00  7.00  9.00\n",
    "      2.00  4.00  6.00  8.00 10.00\n",
    "      3.00  5.00  7.00  9.00 11.00\n",
    "      4.00  6.00  8.00 10.00 12.00\n",
    "      5.00  7.00  9.00 11.00 13.00\n",
    "\n",
    "So now we are ready to try temporal interpolation."
   ]
  },
  {
   "cell_type": "markdown",
   "metadata": {},
   "source": [
    "## Time interpolation\n",
    "\n",
    "To test time interpolation I think the signals in both models must be much smoother than in the contrived example above.\n",
    "\n",
    "Let's assume we have a sine wave in each model, and the exchange causes a perturbation:\n",
    "\n",
    "$$\n",
    "f_1(t)=a_1.sin(\\omega_1.t+\\phi_1)+\\epsilon_1.f_2(t)\\\\\n",
    "f_2(t)=a_2.sin(\\omega_2.t+\\phi_2)+\\epsilon_2.f_1(t)\n",
    "$$\n",
    "\n",
    "In these equations, $\\epsilon_1$ and $\\epsilon_2$ are small and  $\\omega_1$ and $\\omega_2$ are not multiples of one another.\n",
    "\n",
    "We keep the time constants etc as in the previous example. "
   ]
  },
  {
   "cell_type": "code",
   "execution_count": 432,
   "metadata": {
    "collapsed": false
   },
   "outputs": [],
   "source": [
    "# Concurrent case with different time steps and a long sync period\n",
    "\n",
    "from math import sin,pi\n",
    "\n",
    "quantum = 20 # minutes\n",
    "sync_period = 1*24*3 # quanta\n",
    "\n",
    "ocean_sync_period = sync_period # quanta\n",
    "ocean_timestep = 1 # quantum\n",
    "ocean_offset = 0 \n",
    "atmosphere_timestep = 24 # quanta\n",
    "atmosphere_offset = 0\n",
    "atmosphere_sync_period = sync_period\n",
    "\n",
    "def ocean(t,v2):\n",
    "    a1=16\n",
    "    omega1=pi/360\n",
    "    phi1=pi/4\n",
    "    eps1=2e-1\n",
    "    return a1*sin(omega1*t+phi1)+eps1*v2\n",
    "\n",
    "def atmosphere(t,v1):\n",
    "    a2=12\n",
    "    omega2=pi/240\n",
    "    phi2=3*pi/4\n",
    "    eps2=1e-1\n",
    "    return a2*sin(omega2*t+phi2)+eps2*v1\n",
    "    \n",
    "v1=1\n",
    "v1b=1\n",
    "v2=1\n",
    "v2b=1\n",
    "n_ticks_ocean=0\n",
    "n_ticks_atmosphere=0\n",
    "s1l=[]\n",
    "s2l=[]\n",
    "tl=[]\n",
    "\n",
    "for t in range(0,2500):\n",
    "\n",
    "    sim_time_ocean=n_ticks_ocean*ocean_timestep+ocean_offset\n",
    "    sim_time_atmosphere=n_ticks_atmosphere*atmosphere_timestep+atmosphere_offset\n",
    "# ocean and atmosphere sync \n",
    "    if (sim_time_ocean% sync_period==0 and sim_time_atmosphere % sync_period==0):\n",
    "#         print(t,v1,v2)\n",
    "\n",
    "\n",
    "        v1r = v1\n",
    "        v2r = v2\n",
    "        \n",
    "# ocean computes for every t (ocean_timestep==1)\n",
    "    if (t % ocean_timestep == 0):\n",
    "        n_ticks_ocean+=1\n",
    "        v1b = ocean(t,v2r)\n",
    "#         if (t%72==0):\n",
    "#             print('%d\\t%8.3f\\t%8.3f'.expandtabs(4) % (t,v1,v2))\n",
    "        v1=v1b\n",
    "        \n",
    "# atmosphere computes every n timesteps (atmosphere_timestep==24)\n",
    "    if t % atmosphere_timestep == 0:\n",
    "        n_ticks_atmosphere+=1         \n",
    "        v2 = atmosphere(t,v1r)  \n",
    "        \n",
    "# Create arrays for plotting\n",
    "    s1l+=[ v1 ]\n",
    "    s2l+=[ v2 ]\n",
    "    tl+=[ t ]        "
   ]
  },
  {
   "cell_type": "code",
   "execution_count": 433,
   "metadata": {
    "collapsed": false
   },
   "outputs": [
    {
     "data": {
      "image/png": "[encoded data removed]",
      "text/plain": [
       "<matplotlib.figure.Figure at 0x114d8a748>"
      ]
     },
     "metadata": {},
     "output_type": "display_data"
    }
   ],
   "source": [
    "import numpy as np\n",
    "import matplotlib.pyplot as plt\n",
    "\n",
    "s1=np.array(s1l)\n",
    "s2=np.array(s2l)\n",
    "t=np.array(tl)\n",
    "\n",
    "plt.subplots(figsize=(20, 10))\n",
    "plt.subplot(211)\n",
    "plt.plot(t, s1, t, s2)\n",
    "\n",
    "plt.xlabel('time')\n",
    "plt.ylabel('s1 and s2')\n",
    "plt.grid(True)\n",
    "\n",
    "plt.show()"
   ]
  },
  {
   "cell_type": "code",
   "execution_count": null,
   "metadata": {
    "collapsed": true
   },
   "outputs": [],
   "source": []
  }
 ],
 "metadata": {
  "kernelspec": {
   "display_name": "Python 3",
   "language": "python",
   "name": "python3"
  },
  "language_info": {
   "codemirror_mode": {
    "name": "ipython",
    "version": 3
   },
   "file_extension": ".py",
   "mimetype": "text/x-python",
   "name": "python",
   "nbconvert_exporter": "python",
   "pygments_lexer": "ipython3",
   "version": "3.6.1"
  }
 },
 "nbformat": 4,
 "nbformat_minor": 2
}
